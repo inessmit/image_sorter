{
 "cells": [
  {
   "cell_type": "code",
   "execution_count": 19,
   "metadata": {
    "collapsed": true
   },
   "outputs": [],
   "source": [
    "from IPython.display import display, clear_output\n",
    "from ipywidgets import *\n",
    "from IPython.display import Image, display, clear_output\n",
    "import os\n",
    "from time import sleep\n",
    "from ipywidgets import FloatSlider\n",
    "import sqlite3 as lite\n",
    "import re\n",
    "import shutil"
   ]
  },
  {
   "cell_type": "markdown",
   "metadata": {},
   "source": [
    "### Prereqs"
   ]
  },
  {
   "cell_type": "markdown",
   "metadata": {},
   "source": [
    "* You must have a directory with images, specify below as img_dir\n",
    "* Images must have filenames with pmid, pmcid and fig_id separated by underscores and followed by '.jpeg'\n",
    "* You must have the sqlite db created as well with a table fig_info(pmid, pmcid, fig_id, caption, url, fal_pos)"
   ]
  },
  {
   "cell_type": "markdown",
   "metadata": {},
   "source": [
    "### Specify directories"
   ]
  },
  {
   "cell_type": "code",
   "execution_count": 20,
   "metadata": {
    "collapsed": true
   },
   "outputs": [],
   "source": [
    "# Path to directory with downloaded images\n",
    "img_dir = '/Users/Ines/ipynbs/pk_figures/'"
   ]
  },
  {
   "cell_type": "code",
   "execution_count": 21,
   "metadata": {
    "collapsed": true
   },
   "outputs": [],
   "source": [
    "# Path to sqlite db with image ids\n",
    "db_name = '/Users/Ines/ipynbs/sorter/pk_figs.db'"
   ]
  },
  {
   "cell_type": "markdown",
   "metadata": {},
   "source": [
    "### DB connection"
   ]
  },
  {
   "cell_type": "code",
   "execution_count": 22,
   "metadata": {
    "collapsed": false
   },
   "outputs": [],
   "source": [
    "conn = lite.connect(db_name)\n",
    "cursor = conn.cursor()"
   ]
  },
  {
   "cell_type": "markdown",
   "metadata": {},
   "source": [
    "### Files"
   ]
  },
  {
   "cell_type": "code",
   "execution_count": 23,
   "metadata": {
    "collapsed": false
   },
   "outputs": [],
   "source": [
    "file_list = [x for x in os.listdir(img_dir) if 'jpeg' in x]"
   ]
  },
  {
   "cell_type": "code",
   "execution_count": 24,
   "metadata": {
    "collapsed": false
   },
   "outputs": [],
   "source": [
    "n = len(file_list)"
   ]
  },
  {
   "cell_type": "code",
   "execution_count": null,
   "metadata": {
    "collapsed": true
   },
   "outputs": [],
   "source": []
  },
  {
   "cell_type": "code",
   "execution_count": 25,
   "metadata": {
    "collapsed": false,
    "scrolled": true
   },
   "outputs": [],
   "source": [
    "sorting_dict = {}\n",
    "\n",
    "for file in enumerate(file_list):\n",
    "    \n",
    "    pmid = re.findall('^([0-9]*)_', file[1])[0]\n",
    "    fig_id = re.findall('^[0-9]*_[A-Z0-9]*_(.*).jpeg$', file[1])[0]\n",
    "    cursor.execute(\"select fal_pos from fig_info where pmid = ? and fig_id = ?\", (pmid, fig_id))\n",
    "    result = cursor.fetchall()\n",
    "    \n",
    "    if result[0][0] == 1:\n",
    "        sorting_dict[file[0]] = True\n",
    "    elif result[0][0] == 0:\n",
    "        sorting_dict[file[0]] = False\n",
    "    else:\n",
    "        sorting_dict[file[0]] = None"
   ]
  },
  {
   "cell_type": "markdown",
   "metadata": {},
   "source": [
    "### Previous / Next"
   ]
  },
  {
   "cell_type": "code",
   "execution_count": 26,
   "metadata": {
    "collapsed": false
   },
   "outputs": [],
   "source": [
    "next_button = Button(description='next >', height='3em', width='22em', background_color='AliceBlue')\n",
    "previous_button = Button(description='< previous', height='3em', width='22em', background_color='AliceBlue')\n",
    "\n",
    "def go_to_next_elaborate_not_used(sender):\n",
    "    if type(sender) == Button and sender.description == 'next >':\n",
    "        \n",
    "        if status_toggle.value == 'Kept': \n",
    "        \n",
    "            current_pmid = re.findall('^([0-9]*)_', file_list[F.value])[0]\n",
    "            fig_id = re.findall('^[0-9]*_[A-Z0-9]*_(.*).jpeg$', file_list[F.value])[0]\n",
    "            cursor.execute(\"update fig_info set fal_pos = 0 where pmid = ? and fig_id = ?\", (current_pmid, fig_id))\n",
    "            conn.commit()\n",
    "            \n",
    "            clear_output()\n",
    "            F.value += 1\n",
    "            \n",
    "        elif status_toggle.value == 'Excluded':\n",
    "            \n",
    "            clear_output()\n",
    "            F.value += 1\n",
    "            \n",
    "        elif status_toggle.value == 'None':\n",
    "            \n",
    "            sorting_dict[F.value] = False\n",
    "            \n",
    "            current_pmid = re.findall('^([0-9]*)_', file_list[F.value])[0]\n",
    "            fig_id = re.findall('^[0-9]*_[A-Z0-9]*_(.*).jpeg$', file_list[F.value])[0]\n",
    "            cursor.execute(\"update fig_info set fal_pos = 0 where pmid = ? and fig_id = ?\", (current_pmid, fig_id))\n",
    "            conn.commit()\n",
    "            \n",
    "            clear_output()\n",
    "            F.value += 1\n",
    "            \n",
    "def go_to_next(sender):\n",
    "    if type(sender) == Button and sender.description == 'next >':\n",
    "        \n",
    "        if status_toggle.value == 'Kept': \n",
    "        \n",
    "            current_pmid = re.findall('^([0-9]*)_', file_list[F.value])[0]\n",
    "            fig_id = re.findall('^[0-9]*_[A-Z0-9]*_(.*).jpeg$', file_list[F.value])[0]\n",
    "            cursor.execute(\"update fig_info set fal_pos = 0 where pmid = ? and fig_id = ?\", (current_pmid, fig_id))\n",
    "            conn.commit()\n",
    "            sorting_dict[F.value] = False\n",
    "            \n",
    "            clear_output()\n",
    "            F.value += 1\n",
    "            \n",
    "        elif status_toggle.value == 'Excluded':\n",
    "            \n",
    "            current_pmid = re.findall('^([0-9]*)_', file_list[F.value])[0]\n",
    "            fig_id = re.findall('^[0-9]*_[A-Z0-9]*_(.*).jpeg$', file_list[F.value])[0]\n",
    "            cursor.execute(\"update fig_info set fal_pos = 1 where pmid = ? and fig_id = ?\", (current_pmid, fig_id))\n",
    "            conn.commit()\n",
    "            sorting_dict[F.value] = True\n",
    "\n",
    "            clear_output()\n",
    "            F.value += 1\n",
    "            \n",
    "        elif status_toggle.value == 'None':\n",
    "            \n",
    "            sorting_dict[F.value] = None\n",
    "            \n",
    "            current_pmid = re.findall('^([0-9]*)_', file_list[F.value])[0]\n",
    "            fig_id = re.findall('^[0-9]*_[A-Z0-9]*_(.*).jpeg$', file_list[F.value])[0]\n",
    "            cursor.execute(\"update fig_info set fal_pos = null where pmid = ? and fig_id = ?\", (current_pmid, fig_id))\n",
    "            conn.commit()\n",
    "            \n",
    "            clear_output()\n",
    "            F.value += 1\n",
    "       \n",
    "def go_to_previous(sender):\n",
    "    if F.value == 0:\n",
    "        pass\n",
    "    else:\n",
    "        clear_output()        \n",
    "        F.value -= 1\n",
    "        \n",
    "def auto_next():\n",
    "    clear_output\n",
    "    F.value += 1\n",
    "        \n",
    "next_button.on_click(go_to_next)\n",
    "previous_button.on_click(go_to_previous)"
   ]
  },
  {
   "cell_type": "markdown",
   "metadata": {},
   "source": [
    "### Keep / Exclude"
   ]
  },
  {
   "cell_type": "code",
   "execution_count": 27,
   "metadata": {
    "collapsed": false
   },
   "outputs": [],
   "source": [
    "keep_button = Button(description='Keep', background_color='lightgreen', height='5em', width='20em', border_color='gainsboro')\n",
    "exclude_button = Button(description='Exclude', background_color='pink', height='5em', width='20em')\n",
    "dont_know_button = Button(description=\"Don't know\", background_color='OldLace', height='5em', width='20em')\n",
    "status_toggle = widgets.ToggleButtons(description='Recorded status:', options=['None', 'Kept', 'Excluded'])\n",
    "\n",
    "def exclude_clicked(sender):\n",
    "    exclude_button.border_width = '0.2em'\n",
    "    exclude_button.border_color = 'gray'\n",
    "    \n",
    "    sorting_dict[F.value] = True\n",
    "    \n",
    "    current_pmid = re.findall('^([0-9]*)_', file_list[F.value])[0]\n",
    "    fig_id = re.findall('^[0-9]*_[A-Z0-9]*_(.*).jpeg$', file_list[F.value])[0]\n",
    "    cursor.execute(\"update fig_info set fal_pos = 1 where pmid = ? and fig_id = ?\", (current_pmid, fig_id))\n",
    "    conn.commit()\n",
    "    \n",
    "    sleep(0.1)\n",
    "    auto_next()\n",
    "\n",
    "def keep_clicked(sender):\n",
    "    keep_button.border_width = '0.2em'\n",
    "    keep_button.border_color = 'gray'\n",
    "    \n",
    "    sorting_dict[F.value] = False\n",
    "    \n",
    "    current_pmid = re.findall('^([0-9]*)_', file_list[F.value])[0]\n",
    "    fig_id = re.findall('^[0-9]*_[A-Z0-9]*_(.*).jpeg$', file_list[F.value])[0]\n",
    "    cursor.execute(\"update fig_info set fal_pos = 0 where pmid = ? and fig_id = ?\", (current_pmid, fig_id))\n",
    "    conn.commit()\n",
    "    \n",
    "    sleep(0.1)\n",
    "    auto_next()\n",
    "    \n",
    "def dont_know_button_clicked(sender):\n",
    "    \n",
    "    exclude_button.border_width = '0.1em'\n",
    "    exclude_button.border_color = 'Gainsboro'\n",
    "    keep_button.border_width = '0.1em'\n",
    "    keep_button.border_color = 'Gainsboro'\n",
    "    dont_know_button.border_color = 'gray'\n",
    "    dont_know_button.border_width = '0.2em'\n",
    "    \n",
    "    sorting_dict[F.value] = None\n",
    "    \n",
    "    current_pmid = re.findall('^([0-9]*)_', file_list[F.value])[0]\n",
    "    fig_id = re.findall('^[0-9]*_[A-Z0-9]*_(.*).jpeg$', file_list[F.value])[0]\n",
    "    cursor.execute(\"update fig_info set fal_pos = null where pmid = ? and fig_id = ?\", (current_pmid, fig_id))\n",
    "    conn.commit()\n",
    "    \n",
    "    sleep(0.1)\n",
    "    auto_next()\n",
    "\n",
    "def status_toggle_change_elaborate(name, value):\n",
    "    if status_toggle.value == 'Excluded' and (sorting_dict[F.value] == False or sorting_dict[F.value] == None):\n",
    "        sorting_dict[F.value] = True\n",
    "        \n",
    "    if status_toggle.value == 'Kept' and (sorting_dict[F.value] == True or sorting_dict[F.value] == None):\n",
    "        sorting_dict[F.value] = False\n",
    "\n",
    "def status_toggle_change(name, value):\n",
    "    if status_toggle.value == 'Excluded' and sorting_dict[F.value] == False:\n",
    "        sorting_dict[F.value] = True\n",
    "        \n",
    "    if status_toggle.value == 'Kept' and sorting_dict[F.value] == True:\n",
    "        sorting_dict[F.value] = False\n",
    "        \n",
    "    if status_toggle.value == 'None' and sorting_dict[F.value] != None:\n",
    "        sorting_dict[F.value] = None\n",
    "\n",
    "\n",
    "                \n",
    "exclude_button.on_click(exclude_clicked)    \n",
    "keep_button.on_click(keep_clicked)\n",
    "status_toggle.on_trait_change(status_toggle_change, 'value')\n",
    "dont_know_button.on_click(dont_know_button_clicked)\n"
   ]
  },
  {
   "cell_type": "markdown",
   "metadata": {},
   "source": [
    "### Image slider definitions"
   ]
  },
  {
   "cell_type": "code",
   "execution_count": 28,
   "metadata": {
    "collapsed": false
   },
   "outputs": [],
   "source": [
    "def display_image(number=0):\n",
    "    \n",
    "    try:\n",
    "        if sorting_dict[int(F.value)] == False:\n",
    "            status_toggle.value = 'Kept'\n",
    "        if sorting_dict[int(F.value)] == True:\n",
    "            status_toggle.value = 'Excluded'\n",
    "        if sorting_dict[int(F.value)] == None:\n",
    "            status_toggle.value = 'None'\n",
    "        \n",
    "        keep_button.border_width = '0.1em'\n",
    "        keep_button.border_color = 'gainsboro'\n",
    "        exclude_button.border_width = '0.1em'\n",
    "        exclude_button.border_color = 'Gainsboro'\n",
    "        dont_know_button.border_width = '0.1em'\n",
    "        dont_know_button.border_color = 'Gainsboro'        \n",
    "        \n",
    "        keep_button.visible = True\n",
    "        exclude_button.visible = True\n",
    "        status_toggle.visible= True\n",
    "        decision.visible = True\n",
    "        dont_know_button.visible = True\n",
    "        next_button.visible=True\n",
    "        \n",
    "        current_pmid = re.findall('^([0-9]*)_', file_list[F.value])[0]\n",
    "        fig_id = re.findall('^[0-9]*_[A-Z0-9]*_(.*).jpeg$', file_list[F.value])[0]\n",
    "        cursor.execute(\"select distinct caption, fal_pos from fig_info where pmid = ? and fig_id = ?\", (current_pmid, fig_id))\n",
    "        result2 = cursor.fetchall()[0]\n",
    "        \n",
    "        caption = str(result2[0])\n",
    "        display(Image(filename=img_dir+file_list[int(number)]))\n",
    "        \n",
    "        display(result2[0])\n",
    "        \n",
    "        display(str(result2[1])+' (db false positive status)')\n",
    "        \n",
    "        display(img_dir+file_list[int(number)])\n",
    "\n",
    "        \n",
    "    except KeyError:\n",
    "        print(\"You have reached the end of the list\")\n",
    "        keep_button.visible = False\n",
    "        exclude_button.visible = False\n",
    "        next_button.visible=False\n",
    "        status_toggle.visible=False\n",
    "        decision.visible = False\n",
    "        dont_know_button.visible = False\n",
    "\n",
    "F = IntSlider(value=0, min=0, max=n, step=1)\n",
    "image_slider = interactive(display_image, number = F)\n",
    "\n"
   ]
  },
  {
   "cell_type": "code",
   "execution_count": 29,
   "metadata": {
    "collapsed": false
   },
   "outputs": [],
   "source": [
    "## Just some extra space\n",
    "status = widgets.HTML('Recorded status:&nbsp&nbsp')\n",
    "decision = widgets.HTML('<br>This picture:&nbsp&nbsp')\n",
    "space = widgets.HTML('<br>')\n"
   ]
  },
  {
   "cell_type": "markdown",
   "metadata": {},
   "source": [
    "### Display sorter"
   ]
  },
  {
   "cell_type": "code",
   "execution_count": 30,
   "metadata": {
    "collapsed": false
   },
   "outputs": [
    {
     "data": {
      "image/jpeg": "[encoded data removed]",
      "text/plain": [
       "<IPython.core.display.Image object>"
      ]
     },
     "metadata": {},
     "output_type": "display_data"
    },
    {
     "data": {
      "text/plain": [
       "'Mean arterial plasma concentration-time profiles of DA-1131 after a 1-min intravenous infusion of the drug, at 200 mg/kg, without (○) (n = 13) or with (●) (n = 10) cilastatin (at 200 mg/kg) to rats (A) or, at 50 mg/kg, without (○) (n = 10) or with (●) (n = 10) cilastatin (at 50 mg/kg) to rabbits (B), and corresponding venous profiles of DA-1131, at 50 mg/kg, without (○) or with (●) cilastatin (at 50 mg/kg) (n = 6, by parallel design) to dogs (C). Bars represent standard deviations. , P < 0.05; , P < 0.01; , P < 0.001.'"
      ]
     },
     "metadata": {},
     "output_type": "display_data"
    },
    {
     "data": {
      "text/plain": [
       "'0 (db false positive status)'"
      ]
     },
     "metadata": {},
     "output_type": "display_data"
    },
    {
     "data": {
      "text/plain": [
       "'/Users/Ines/ipynbs/pk_figures/10508037_PMC89513_ac1090715001.jpeg'"
      ]
     },
     "metadata": {},
     "output_type": "display_data"
    }
   ],
   "source": [
    "VBox([HBox([previous_button, next_button]), image_slider, space, HBox([decision, keep_button, exclude_button, dont_know_button]), space, status_toggle])"
   ]
  },
  {
   "cell_type": "code",
   "execution_count": null,
   "metadata": {
    "collapsed": true
   },
   "outputs": [],
   "source": []
  },
  {
   "cell_type": "code",
   "execution_count": null,
   "metadata": {
    "collapsed": true
   },
   "outputs": [],
   "source": []
  },
  {
   "cell_type": "code",
   "execution_count": null,
   "metadata": {
    "collapsed": true
   },
   "outputs": [],
   "source": []
  },
  {
   "cell_type": "code",
   "execution_count": null,
   "metadata": {
    "collapsed": true
   },
   "outputs": [],
   "source": []
  },
  {
   "cell_type": "code",
   "execution_count": null,
   "metadata": {
    "collapsed": true
   },
   "outputs": [],
   "source": []
  },
  {
   "cell_type": "code",
   "execution_count": null,
   "metadata": {
    "collapsed": true
   },
   "outputs": [],
   "source": []
  },
  {
   "cell_type": "markdown",
   "metadata": {},
   "source": [
    "### Check some things in the db"
   ]
  },
  {
   "cell_type": "code",
   "execution_count": 31,
   "metadata": {
    "collapsed": false
   },
   "outputs": [
    {
     "data": {
      "text/plain": [
       "29"
      ]
     },
     "execution_count": 31,
     "metadata": {},
     "output_type": "execute_result"
    }
   ],
   "source": [
    "# Check images with certain value\n",
    "cursor.execute(\"select distinct pmid, pmcid, fig_id, fal_pos from fig_info where fal_pos is not null \")\n",
    "len(cursor.fetchall())\n"
   ]
  },
  {
   "cell_type": "code",
   "execution_count": 32,
   "metadata": {
    "collapsed": false
   },
   "outputs": [
    {
     "data": {
      "text/plain": [
       "[(10336571,\n",
       "  'bcp0047-0483-f1',\n",
       "  'Semilogarithmic and linear (insert) plasma concentration-time profiles of single p.o. (mean of two administrations of 12 mg tablet, ) and i.v. (3 mg as an infusion over 40 min, ○) administrations of HTF under fasted conditions (mean+s.e.mean, n=12).',\n",
       "  0)]"
      ]
     },
     "execution_count": 32,
     "metadata": {},
     "output_type": "execute_result"
    }
   ],
   "source": [
    "# Check value for one image\n",
    "cursor.execute(\"select distinct pmid, fig_id, caption, fal_pos from fig_info where fig_id = 'bcp0047-0483-f1'\")\n",
    "cursor.fetchall()"
   ]
  },
  {
   "cell_type": "code",
   "execution_count": 33,
   "metadata": {
    "collapsed": false
   },
   "outputs": [],
   "source": [
    "def select_images(selection_dir, img_dir):\n",
    "    if not os.path.exists(selection_dir):\n",
    "        os.makedirs(selection_dir)\n",
    "\n",
    "    cursor.execute(\"select distinct pmid, pmcid, fig_id, fal_pos from fig_info where fal_pos = 1  \")\n",
    "    \n",
    "    for image in cursor.fetchall():\n",
    "        filename = '_'.join([str(image[0]), image[1], image[2]])\n",
    "        shutil.copyfile(img_dir+filename+'.jpeg', selection_dir+filename+'.jpeg')\n",
    "    "
   ]
  },
  {
   "cell_type": "code",
   "execution_count": 34,
   "metadata": {
    "collapsed": false
   },
   "outputs": [],
   "source": [
    "#select_images('/Users/Ines/ipynbs/selected_images/', img_dir)"
   ]
  },
  {
   "cell_type": "code",
   "execution_count": 35,
   "metadata": {
    "collapsed": true
   },
   "outputs": [],
   "source": [
    "#conn.commit()"
   ]
  },
  {
   "cell_type": "code",
   "execution_count": 36,
   "metadata": {
    "collapsed": true
   },
   "outputs": [],
   "source": [
    "#conn.close()"
   ]
  },
  {
   "cell_type": "code",
   "execution_count": null,
   "metadata": {
    "collapsed": true
   },
   "outputs": [],
   "source": []
  }
 ],
 "metadata": {
  "kernelspec": {
   "display_name": "Python 3",
   "language": "python",
   "name": "python3"
  },
  "language_info": {
   "codemirror_mode": {
    "name": "ipython",
    "version": 3
   },
   "file_extension": ".py",
   "mimetype": "text/x-python",
   "name": "python",
   "nbconvert_exporter": "python",
   "pygments_lexer": "ipython3",
   "version": "3.4.3"
  }
 },
 "nbformat": 4,
 "nbformat_minor": 0
}
